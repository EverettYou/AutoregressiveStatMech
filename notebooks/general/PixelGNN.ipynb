{
 "cells": [
  {
   "cell_type": "code",
   "execution_count": 37,
   "metadata": {},
   "outputs": [
    {
     "name": "stdout",
     "output_type": "stream",
     "text": [
      "Created `%r` as an alias for `%run model.py`.\n"
     ]
    }
   ],
   "source": [
    "%alias_magic r run -p \"model.py\"\n",
    "%r"
   ]
  },
  {
   "cell_type": "markdown",
   "metadata": {},
   "source": [
    "# Pixel Graph Neural Network"
   ]
  },
  {
   "cell_type": "markdown",
   "metadata": {},
   "source": [
    "## Lattice System"
   ]
  },
  {
   "cell_type": "markdown",
   "metadata": {},
   "source": [
    "### Flat Lattice"
   ]
  },
  {
   "cell_type": "markdown",
   "metadata": {},
   "source": [
    "Create a flat lattice. List the nodes and their center coordinates.\n",
    "- **relevant nodes**: the preceeding nodes within a given radius."
   ]
  },
  {
   "cell_type": "code",
   "execution_count": 217,
   "metadata": {},
   "outputs": [
    {
     "name": "stdout",
     "output_type": "stream",
     "text": [
      "ind   center   relevant_nodes\n",
      "  0 [0.0, 0.0] []\n",
      "  1 [0.0, 1.0] [0]\n",
      "  2 [0.0, 2.0] [1]\n",
      "  3 [0.0, 3.0] [2, 0]\n",
      "  4 [1.0, 0.0] [1, 3, 0]\n",
      "  5 [1.0, 1.0] [1, 2, 0, 4]\n",
      "  6 [1.0, 2.0] [2, 1, 5, 3]\n",
      "  7 [1.0, 3.0] [6, 0, 2, 3, 4]\n",
      "  8 [2.0, 0.0] [4, 7, 5]\n",
      "  9 [2.0, 1.0] [4, 6, 5, 8]\n",
      " 10 [2.0, 2.0] [9, 6, 7, 5]\n",
      " 11 [2.0, 3.0] [6, 10, 8, 4, 7]\n",
      " 12 [3.0, 0.0] [0, 3, 1, 11, 8, 9]\n",
      " 13 [3.0, 1.0] [12, 0, 2, 10, 1, 8, 9]\n",
      " 14 [3.0, 2.0] [2, 10, 3, 1, 11, 13, 9]\n",
      " 15 [3.0, 3.0] [12, 14, 0, 2, 10, 3, 11, 8]\n"
     ]
    }
   ],
   "source": [
    "latt = FlatLattice(4, 2)\n",
    "print('ind   center   relevant_nodes')\n",
    "for node in latt.nodes:\n",
    "    if node.type is 'lat':\n",
    "        print(' {:2d} {} {}'.format(node.ind, \n",
    "                                 node.center.tolist(),\n",
    "                                 [node.ind for node in latt.relevant_nodes(node, 2.)]))"
   ]
  },
  {
   "cell_type": "markdown",
   "metadata": {},
   "source": [
    "The nodes are arranged on a square lattice with periodic boundary condition.\n",
    "\n",
    "<img src=\"./image/flat.png\" alt=\"flat\" width=\"180\"/>"
   ]
  },
  {
   "cell_type": "markdown",
   "metadata": {},
   "source": [
    "Construct the causal graph from the lattice."
   ]
  },
  {
   "cell_type": "code",
   "execution_count": 216,
   "metadata": {},
   "outputs": [
    {
     "data": {
      "text/plain": [
       "({1: (0, 1), 2: (1, 1)},\n",
       " tensor([ 0,  1,  2,  3,  4,  5,  6,  7,  8,  9, 10, 11, 12, 13, 14, 15]),\n",
       " tensor([[0, 0, 0, 0, 0, 0, 0, 0, 0, 0, 0, 0, 0, 0, 0, 0],\n",
       "         [1, 0, 0, 0, 0, 0, 0, 0, 0, 0, 0, 0, 0, 0, 0, 0],\n",
       "         [0, 1, 0, 0, 0, 0, 0, 0, 0, 0, 0, 0, 0, 0, 0, 0],\n",
       "         [1, 0, 1, 0, 0, 0, 0, 0, 0, 0, 0, 0, 0, 0, 0, 0],\n",
       "         [1, 2, 0, 2, 0, 0, 0, 0, 0, 0, 0, 0, 0, 0, 0, 0],\n",
       "         [2, 1, 2, 0, 1, 0, 0, 0, 0, 0, 0, 0, 0, 0, 0, 0],\n",
       "         [0, 2, 1, 2, 0, 1, 0, 0, 0, 0, 0, 0, 0, 0, 0, 0],\n",
       "         [2, 0, 2, 1, 1, 0, 1, 0, 0, 0, 0, 0, 0, 0, 0, 0],\n",
       "         [0, 0, 0, 0, 1, 2, 0, 2, 0, 0, 0, 0, 0, 0, 0, 0],\n",
       "         [0, 0, 0, 0, 2, 1, 2, 0, 1, 0, 0, 0, 0, 0, 0, 0],\n",
       "         [0, 0, 0, 0, 0, 2, 1, 2, 0, 1, 0, 0, 0, 0, 0, 0],\n",
       "         [0, 0, 0, 0, 2, 0, 2, 1, 1, 0, 1, 0, 0, 0, 0, 0],\n",
       "         [1, 2, 0, 2, 0, 0, 0, 0, 1, 2, 0, 2, 0, 0, 0, 0],\n",
       "         [2, 1, 2, 0, 0, 0, 0, 0, 2, 1, 2, 0, 1, 0, 0, 0],\n",
       "         [0, 2, 1, 2, 0, 0, 0, 0, 0, 2, 1, 2, 0, 1, 0, 0],\n",
       "         [2, 0, 2, 1, 0, 0, 0, 0, 2, 0, 2, 1, 1, 0, 1, 0]]))"
      ]
     },
     "execution_count": 216,
     "metadata": {},
     "output_type": "execute_result"
    }
   ],
   "source": [
    "graph = latt.causal_graph()\n",
    "graph.type_dict, graph.source_depths, graph.adjacency_matrix().to_dense()"
   ]
  },
  {
   "cell_type": "markdown",
   "metadata": {},
   "source": [
    "How the causal graph scales with the radius."
   ]
  },
  {
   "cell_type": "code",
   "execution_count": 208,
   "metadata": {},
   "outputs": [
    {
     "name": "stdout",
     "output_type": "stream",
     "text": [
      "r = 1.01: Graph(16x16, 32 edges of 1 types), max_depth = 6\n",
      "r = 1.42: Graph(16x16, 64 edges of 2 types), max_depth = 15\n",
      "r = 2.01: Graph(16x16, 80 edges of 3 types), max_depth = 15\n",
      "r = 2.24: Graph(16x16, 112 edges of 4 types), max_depth = 15\n",
      "r = 2.83: Graph(16x16, 120 edges of 5 types), max_depth = 15\n"
     ]
    }
   ],
   "source": [
    "for r in [1.01,1.42,2.01,2.24,2.83]:\n",
    "    graph = latt.causal_graph(radius=r)\n",
    "    print('r = {}: {}, max_depth = {}'.format(r, graph, graph.max_depth))"
   ]
  },
  {
   "cell_type": "markdown",
   "metadata": {},
   "source": [
    "### Tree Lattice"
   ]
  },
  {
   "cell_type": "markdown",
   "metadata": {},
   "source": [
    "Create a tree lattice. List the nodes and their center coordinates.\n",
    "- **relevant nodes**: the preceeding nodes within the past light-cone of nodes in a given radius."
   ]
  },
  {
   "cell_type": "code",
   "execution_count": 228,
   "metadata": {},
   "outputs": [
    {
     "name": "stdout",
     "output_type": "stream",
     "text": [
      "ind   center   relevant_nodes\n",
      "  0            []\n",
      "  1 [2.0, 2.0] []\n",
      "  2 [1.0, 2.0] [1]\n",
      "  3 [3.0, 2.0] [2, 1]\n",
      "  4 [1.0, 1.0] [2, 1, 3]\n",
      "  5 [3.0, 1.0] [4, 2, 1, 3]\n",
      "  6 [1.0, 3.0] [4, 5, 1, 3, 2]\n",
      "  7 [3.0, 3.0] [6, 4, 5, 1, 3, 2]\n",
      "  8 [0.5, 1.0] [6, 4, 5, 1, 3, 7, 2]\n",
      "  9 [2.5, 1.0] [6, 4, 5, 1, 8, 3, 7, 2]\n",
      " 10 [0.5, 3.0] [6, 4, 5, 1, 8, 3, 7, 2]\n",
      " 11 [2.5, 3.0] [6, 4, 5, 1, 10, 9, 3, 7, 2]\n",
      " 12 [1.5, 1.0] [6, 11, 4, 5, 1, 10, 9, 8, 3, 7, 2]\n",
      " 13 [3.5, 1.0] [6, 11, 4, 5, 1, 10, 9, 12, 8, 3, 7, 2]\n",
      " 14 [1.5, 3.0] [6, 11, 4, 5, 1, 10, 9, 12, 8, 3, 7, 2]\n",
      " 15 [3.5, 3.0] [6, 11, 14, 4, 5, 1, 10, 13, 9, 8, 3, 7, 2]\n"
     ]
    }
   ],
   "source": [
    "latt = TreeLattice(4, 2)\n",
    "print('ind   center   relevant_nodes')\n",
    "for node in latt.nodes:\n",
    "    if node.type is 'lat':\n",
    "        print(' {:2d} {} {}'.format(node.ind, \n",
    "                                 node.center.tolist() if node.center is not None else '          ',\n",
    "                                 [node.ind for node in latt.relevant_nodes(node, 2.)]))"
   ]
  },
  {
   "cell_type": "markdown",
   "metadata": {},
   "source": [
    "Latent nodes are arranged in on a binary tree representing the hierachical structure.\n",
    "\n",
    "<img src=\"./image/tree.png\" alt=\"tree\" width=\"180\"/>"
   ]
  },
  {
   "cell_type": "markdown",
   "metadata": {},
   "source": [
    "Construct the causal graph from the lattice."
   ]
  },
  {
   "cell_type": "code",
   "execution_count": 229,
   "metadata": {},
   "outputs": [
    {
     "data": {
      "text/plain": [
       "({1: (0, 1), 2: (1, 3), 3: (3, 3), 4: (1, 1), 5: (2, 3), 6: (0, 3), 7: (0, 2)},\n",
       " tensor([0, 0, 1, 2, 2, 3, 2, 3, 3, 4, 3, 4, 5, 5, 5, 5]),\n",
       " tensor([[0, 0, 0, 0, 0, 0, 0, 0, 0, 0, 0, 0, 0, 0, 0, 0],\n",
       "         [0, 0, 0, 0, 0, 0, 0, 0, 0, 0, 0, 0, 0, 0, 0, 0],\n",
       "         [0, 1, 0, 0, 0, 0, 0, 0, 0, 0, 0, 0, 0, 0, 0, 0],\n",
       "         [0, 1, 4, 0, 0, 0, 0, 0, 0, 0, 0, 0, 0, 0, 0, 0],\n",
       "         [0, 7, 1, 0, 0, 0, 0, 0, 0, 0, 0, 0, 0, 0, 0, 0],\n",
       "         [0, 7, 0, 1, 0, 0, 0, 0, 0, 0, 0, 0, 0, 0, 0, 0],\n",
       "         [0, 7, 1, 0, 0, 0, 0, 0, 0, 0, 0, 0, 0, 0, 0, 0],\n",
       "         [0, 7, 0, 1, 0, 0, 0, 0, 0, 0, 0, 0, 0, 0, 0, 0],\n",
       "         [0, 6, 7, 0, 1, 0, 0, 0, 0, 0, 0, 0, 0, 0, 0, 0],\n",
       "         [0, 6, 0, 7, 0, 1, 0, 0, 0, 0, 0, 0, 0, 0, 0, 0],\n",
       "         [0, 6, 7, 0, 0, 0, 1, 0, 0, 0, 0, 0, 0, 0, 0, 0],\n",
       "         [0, 6, 0, 7, 0, 0, 0, 1, 0, 0, 0, 0, 0, 0, 0, 0],\n",
       "         [0, 6, 7, 2, 1, 5, 0, 0, 4, 3, 0, 0, 0, 0, 0, 0],\n",
       "         [0, 6, 2, 7, 5, 1, 0, 0, 3, 4, 0, 0, 0, 0, 0, 0],\n",
       "         [0, 6, 7, 2, 0, 0, 1, 5, 0, 0, 4, 3, 0, 0, 0, 0],\n",
       "         [0, 6, 2, 7, 0, 0, 5, 1, 0, 0, 3, 4, 0, 0, 0, 0]]))"
      ]
     },
     "execution_count": 229,
     "metadata": {},
     "output_type": "execute_result"
    }
   ],
   "source": [
    "graph = latt.causal_graph()\n",
    "graph.type_dict, graph.source_depths, graph.adjacency_matrix().to_dense()"
   ]
  },
  {
   "cell_type": "markdown",
   "metadata": {},
   "source": [
    "How the causal graph scales with the radius."
   ]
  },
  {
   "cell_type": "code",
   "execution_count": 233,
   "metadata": {},
   "outputs": [
    {
     "name": "stdout",
     "output_type": "stream",
     "text": [
      "r = 1.0: Graph(16x16, 51 edges of 7 types), max_depth = 5\n",
      "r = 1.2: Graph(16x16, 67 edges of 9 types), max_depth = 7\n",
      "r = 1.5: Graph(16x16, 85 edges of 9 types), max_depth = 10\n",
      "r = 2.0: Graph(16x16, 101 edges of 9 types), max_depth = 12\n",
      "r = 3.0: Graph(16x16, 105 edges of 9 types), max_depth = 14\n"
     ]
    }
   ],
   "source": [
    "for r in [1., 1.2, 1.5, 2., 3.]:\n",
    "    graph = latt.causal_graph(radius=r)\n",
    "    print('r = {}: {}, max_depth = {}'.format(r, graph, graph.max_depth))"
   ]
  },
  {
   "cell_type": "markdown",
   "metadata": {},
   "source": [
    "## Training"
   ]
  },
  {
   "cell_type": "markdown",
   "metadata": {},
   "source": [
    "### Flat Lattice"
   ]
  },
  {
   "cell_type": "code",
   "execution_count": 249,
   "metadata": {},
   "outputs": [],
   "source": [
    "H = lambda J: -J*(TwoBody([1,0],[1,-1]) + TwoBody([0,1],[1,-1]))\n",
    "model = Model(H(0.440686793), FlatLattice(4, 2), SymmetricGroup(2))\n",
    "model = PixelGNN(model, hidden_features=[8, 8], radius=2.01).to(device)\n",
    "optimizer = optim.Adam(model.parameters(), lr=0.02);"
   ]
  },
  {
   "cell_type": "code",
   "execution_count": 251,
   "metadata": {},
   "outputs": [
    {
     "name": "stdout",
     "output_type": "stream",
     "text": [
      "  100 loss:  -0.5880, free energy: -15.1891 ±  0.6904\n",
      "  200 loss:  -0.1124, free energy: -15.3628 ±  0.4837\n",
      "  300 loss:  -0.0965, free energy: -15.4377 ±  0.3748\n",
      "  400 loss:  -0.0559, free energy: -15.4739 ±  0.3153\n",
      "  500 loss:  -0.0609, free energy: -15.4852 ±  0.2773\n",
      "  600 loss:  -0.0234, free energy: -15.4324 ±  0.3450\n",
      "  700 loss:  -0.0432, free energy: -15.4757 ±  0.2760\n",
      "  800 loss:  -0.0358, free energy: -15.4859 ±  0.2527\n",
      "  900 loss:  -0.0530, free energy: -15.4946 ±  0.2280\n",
      " 1000 loss:  -0.0095, free energy: -15.4715 ±  0.2847\n",
      " 1100 loss:  -0.0347, free energy: -15.4877 ±  0.2383\n",
      " 1200 loss:  -0.0175, free energy: -15.4862 ±  0.2493\n",
      " 1300 loss:  -0.0349, free energy: -15.4929 ±  0.2224\n",
      " 1400 loss:  -0.0259, free energy: -15.4935 ±  0.2243\n",
      " 1500 loss:  -0.0251, free energy: -15.5040 ±  0.1834\n",
      " 1600 loss:  -0.0326, free energy: -15.5052 ±  0.1859\n",
      " 1700 loss:  -0.0102, free energy: -15.4927 ±  0.2491\n",
      " 1800 loss:  -0.0216, free energy: -15.5051 ±  0.1816\n",
      " 1900 loss:  -0.0085, free energy: -15.4876 ±  0.2363\n",
      " 2000 loss:  -0.0247, free energy: -15.4862 ±  0.2398\n"
     ]
    }
   ],
   "source": [
    "batch_size = 100\n",
    "echo = 100\n",
    "cum_loss, cum_meanfree,cum_stdfree = 0., 0., 0.\n",
    "for k in range(2000):\n",
    "    loss, meanfree, stdfree = model.loss(batch_size, return_statistics=True)\n",
    "    optimizer.zero_grad()\n",
    "    loss.backward()\n",
    "    optimizer.step()\n",
    "    cum_loss += loss.item()\n",
    "    cum_meanfree += meanfree\n",
    "    cum_stdfree += stdfree\n",
    "    if (k+1)%echo == 0:\n",
    "        print('{:5} loss: {:8.4f}, free energy: {:8.4f} ±{:8.4f}'.format(k+1, cum_loss/echo, cum_meanfree/echo, cum_stdfree/echo))\n",
    "        cum_loss, cum_meanfree,cum_stdfree = 0., 0., 0."
   ]
  },
  {
   "cell_type": "markdown",
   "metadata": {},
   "source": [
    "### Tree Lattice"
   ]
  },
  {
   "cell_type": "code",
   "execution_count": 247,
   "metadata": {},
   "outputs": [],
   "source": [
    "H = lambda J: -J*(TwoBody([1,0],[1,-1]) + TwoBody([0,1],[1,-1]))\n",
    "model = Model(H(0.440686793), TreeLattice(4, 2), SymmetricGroup(2))\n",
    "model = PixelGNN(model, hidden_features=[8, 8], radius=1.5).to(device)\n",
    "optimizer = optim.Adam(model.parameters(), lr=0.02);"
   ]
  },
  {
   "cell_type": "code",
   "execution_count": 248,
   "metadata": {},
   "outputs": [
    {
     "name": "stdout",
     "output_type": "stream",
     "text": [
      "  100 loss:  -0.5822, free energy: -14.7509 ±  0.8652\n",
      "  200 loss:   0.0133, free energy: -15.1743 ±  0.3668\n",
      "  300 loss:   0.0120, free energy: -15.2134 ±  0.3346\n",
      "  400 loss:   0.0141, free energy: -15.2364 ±  0.3650\n",
      "  500 loss:   0.0168, free energy: -15.2325 ±  0.3552\n",
      "  600 loss:   0.0310, free energy: -15.2542 ±  0.3379\n",
      "  700 loss:   0.0260, free energy: -15.2759 ±  0.4870\n",
      "  800 loss:   0.0259, free energy: -15.3284 ±  0.4301\n",
      "  900 loss:   0.0409, free energy: -15.3497 ±  0.3789\n",
      " 1000 loss:   0.0042, free energy: -15.3600 ±  0.3767\n",
      " 1100 loss:   0.0166, free energy: -15.3793 ±  0.4057\n",
      " 1200 loss:   0.0183, free energy: -15.3926 ±  0.4032\n",
      " 1300 loss:   0.0132, free energy: -15.4008 ±  0.3883\n",
      " 1400 loss:   0.0123, free energy: -15.4034 ±  0.3944\n",
      " 1500 loss:  -0.0026, free energy: -15.4017 ±  0.3867\n",
      " 1600 loss:   0.0021, free energy: -15.4106 ±  0.3700\n",
      " 1700 loss:   0.0163, free energy: -15.4219 ±  0.3569\n",
      " 1800 loss:   0.0180, free energy: -15.4117 ±  0.3622\n",
      " 1900 loss:  -0.0117, free energy: -15.4183 ±  0.3943\n",
      " 2000 loss:   0.0326, free energy: -15.4254 ±  0.3644\n"
     ]
    }
   ],
   "source": [
    "batch_size = 100\n",
    "echo = 100\n",
    "cum_loss, cum_meanfree,cum_stdfree = 0., 0., 0.\n",
    "for k in range(2000):\n",
    "    loss, meanfree, stdfree = model.loss(batch_size, return_statistics=True)\n",
    "    optimizer.zero_grad()\n",
    "    loss.backward()\n",
    "    optimizer.step()\n",
    "    cum_loss += loss.item()\n",
    "    cum_meanfree += meanfree\n",
    "    cum_stdfree += stdfree\n",
    "    if (k+1)%echo == 0:\n",
    "        print('{:5} loss: {:8.4f}, free energy: {:8.4f} ±{:8.4f}'.format(k+1, cum_loss/echo, cum_meanfree/echo, cum_stdfree/echo))\n",
    "        cum_loss, cum_meanfree,cum_stdfree = 0., 0., 0."
   ]
  },
  {
   "cell_type": "code",
   "execution_count": null,
   "metadata": {},
   "outputs": [],
   "source": []
  }
 ],
 "metadata": {
  "kernelspec": {
   "display_name": "Python 3",
   "language": "python",
   "name": "python3"
  },
  "language_info": {
   "codemirror_mode": {
    "name": "ipython",
    "version": 3
   },
   "file_extension": ".py",
   "mimetype": "text/x-python",
   "name": "python",
   "nbconvert_exporter": "python",
   "pygments_lexer": "ipython3",
   "version": "3.7.4"
  }
 },
 "nbformat": 4,
 "nbformat_minor": 4
}
