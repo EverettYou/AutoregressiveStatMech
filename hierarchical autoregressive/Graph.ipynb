{
 "cells": [
  {
   "cell_type": "markdown",
   "metadata": {},
   "source": [
    "# Graph Based Neural Network"
   ]
  },
  {
   "cell_type": "code",
   "execution_count": 8,
   "metadata": {},
   "outputs": [],
   "source": [
    "import torch\n",
    "import torch.nn as nn\n",
    "import torch.nn.functional as F\n",
    "import torch.optim as optim\n",
    "import torch.distributions as dist\n",
    "\n",
    "from torch_geometric.nn import MessagePassing\n",
    "\n",
    "class GraphNet(MessagePassing):\n",
    "    def __init__(self):\n",
    "        super(GraphNet, self).__init__(aggr = 'add')\n",
    "        \n",
    "    def forward(self, data, node_attr, edge_index, merger):\n",
    "        return self.propagate(edge_index, data=data, node_attr=node_attr, merger=merger)\n",
    "    \n",
    "    def message(self, data_j, node_attr_i, node_attr_j, merger):\n",
    "        print(data_j) \n",
    "        print(node_attr_i) \n",
    "        print(node_attr_j)\n",
    "        return data_j"
   ]
  },
  {
   "cell_type": "code",
   "execution_count": 9,
   "metadata": {},
   "outputs": [],
   "source": [
    "gnn = GraphNet()"
   ]
  },
  {
   "cell_type": "code",
   "execution_count": 10,
   "metadata": {},
   "outputs": [
    {
     "name": "stdout",
     "output_type": "stream",
     "text": [
      "tensor([[[1., 2.],\n",
      "         [1., 2.]]])\n",
      "tensor([[[-3., -4.],\n",
      "         [-5., -6.]]])\n",
      "tensor([[[-1., -2.],\n",
      "         [-1., -2.]]])\n"
     ]
    },
    {
     "data": {
      "text/plain": [
       "tensor([[[0., 0.],\n",
       "         [1., 2.],\n",
       "         [1., 2.]]])"
      ]
     },
     "execution_count": 10,
     "metadata": {},
     "output_type": "execute_result"
    }
   ],
   "source": [
    "x = torch.tensor([[[1.,2.],[3.,4.],[5.,6.]]])\n",
    "y = torch.tensor([[[-1.,-2.],[-3.,-4.],[-5.,-6.]]])\n",
    "edge_index = torch.tensor([[0, 0],\n",
    "                           [1, 2]])\n",
    "gnn(x, y, edge_index, 3)"
   ]
  },
  {
   "cell_type": "code",
   "execution_count": null,
   "metadata": {},
   "outputs": [],
   "source": []
  }
 ],
 "metadata": {
  "kernelspec": {
   "display_name": "Python 3",
   "language": "python",
   "name": "python3"
  },
  "language_info": {
   "codemirror_mode": {
    "name": "ipython",
    "version": 3
   },
   "file_extension": ".py",
   "mimetype": "text/x-python",
   "name": "python",
   "nbconvert_exporter": "python",
   "pygments_lexer": "ipython3",
   "version": "3.7.4"
  }
 },
 "nbformat": 4,
 "nbformat_minor": 4
}
