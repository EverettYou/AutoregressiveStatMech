{
 "cells": [
  {
   "cell_type": "code",
   "execution_count": 89,
   "metadata": {},
   "outputs": [],
   "source": [
    "%run 'model.py'"
   ]
  },
  {
   "cell_type": "markdown",
   "metadata": {},
   "source": [
    "# Reverse KL Model"
   ]
  },
  {
   "cell_type": "markdown",
   "metadata": {},
   "source": [
    "## Theoretical Framework"
   ]
  },
  {
   "cell_type": "markdown",
   "metadata": {},
   "source": [
    "### Problem Statement"
   ]
  },
  {
   "cell_type": "markdown",
   "metadata": {},
   "source": [
    "The goal of this project is to develop a machine learning algorithm to simulate statistical mechanical models. The statistical mechanical problem is given by its **transfer matrix** $T(x,x')$, which describes the Boltzmann weight associated with the configurations $x$ and $x'$ across a single layer. Given $T(x,x')$, the task is to find the **stationary distribution** $p(x)$, s.t.\n",
    "$$p'(x)\\equiv \\frac{\\sum_{x'}T(x,x')p(x')}{\\sum_{x'}T(x')p(x')} \\to p(x),$$\n",
    "where $T(x')=\\sum_{x}T(x,x')$ is marginalized over $x$ configurations."
   ]
  },
  {
   "cell_type": "markdown",
   "metadata": {},
   "source": [
    "### Proposed Approach"
   ]
  },
  {
   "cell_type": "markdown",
   "metadata": {},
   "source": [
    "Introduce an **autoregressive generative model** to represent the probability distribtuion $p(x)$. Finding the stationary distribution amounts to minimize the *KL divergence* between $p'$ and $p$,\n",
    "$$\\begin{split}\n",
    "\\mathcal{L}&=\\mathsf{KL}(p||p')=\\sum_{x}p(x)\\ln\\frac{p(x)}{p'(x)}\\\\\n",
    "&=\\sum_{x}p(x)\\Big(\\ln p(x)-\\ln\\sum_{x'}T(x,x')p(x')+\\ln\\sum_{x'}T(x')p(x')\\Big)\\\\\n",
    "&=\\sum_{x\\sim p}\\Big(\\ln p(x)-\\ln\\sum_{x'\\sim p}T(x,x')+\\ln\\sum_{x'\\sim p}T(x')\\Big).\n",
    "\\end{split}$$\n",
    "The loss function is calculated by **dual sampling** from both sides of the transfer matrix. The sampling must be *reparameterized* to enable gradient back propagation. Since the sampling is descrete, the **Gumbel sampling** technique should be applied."
   ]
  },
  {
   "cell_type": "markdown",
   "metadata": {},
   "source": [
    "### One-Hot Encoding"
   ]
  },
  {
   "cell_type": "markdown",
   "metadata": {},
   "source": [
    "To work with Gumbel sampling, the configurations must be **one-hot** encoded. For $x=(x_1,x_2,\\cdots,x_N)$, each $x_i$ is now encoded as a vector\n",
    "$$\\uparrow=(1,0),\\quad \\downarrow=(0,1).$$\n",
    "This allows us to extend our model to more general statistical mechanics problems where the on-site degree of freedom has more than two states. However the challenge is to implement the autoregressive linear transformation that works with multiple internal features."
   ]
  },
  {
   "cell_type": "markdown",
   "metadata": {},
   "source": [
    "## Multi-Feature Autoregressive Linear Layer"
   ]
  },
  {
   "cell_type": "markdown",
   "metadata": {},
   "source": [
    "### Masked Weight"
   ]
  },
  {
   "cell_type": "markdown",
   "metadata": {},
   "source": [
    "With multiple features, we can no longer simply call `torch.tril` to construct the lower-triangular matrix. We need to create a a mask explicit. The stretegy is to first create a four-way tensor by tensor dot the lower-triangular matrix with the block matrix of all-one. Then the tensor is transposed and reshaped to the matrix form."
   ]
  },
  {
   "cell_type": "code",
   "execution_count": 26,
   "metadata": {},
   "outputs": [
    {
     "data": {
      "text/plain": [
       "tensor([[0., 0., 0., 0., 0., 0., 0., 0.],\n",
       "        [0., 0., 0., 0., 0., 0., 0., 0.],\n",
       "        [0., 0., 0., 0., 0., 0., 0., 0.],\n",
       "        [1., 1., 0., 0., 0., 0., 0., 0.],\n",
       "        [1., 1., 0., 0., 0., 0., 0., 0.],\n",
       "        [1., 1., 0., 0., 0., 0., 0., 0.],\n",
       "        [1., 1., 1., 1., 0., 0., 0., 0.],\n",
       "        [1., 1., 1., 1., 0., 0., 0., 0.],\n",
       "        [1., 1., 1., 1., 0., 0., 0., 0.],\n",
       "        [1., 1., 1., 1., 1., 1., 0., 0.],\n",
       "        [1., 1., 1., 1., 1., 1., 0., 0.],\n",
       "        [1., 1., 1., 1., 1., 1., 0., 0.]])"
      ]
     },
     "execution_count": 26,
     "metadata": {},
     "output_type": "execute_result"
    }
   ],
   "source": [
    "(units,in_features,out_features)=(4,2,3)\n",
    "mask = torch.tensordot(torch.tril(torch.ones(units, units), diagonal=-1), torch.ones(out_features, in_features), dims=0).transpose(1,2).reshape(units*out_features, units*in_features)\n",
    "mask"
   ]
  },
  {
   "cell_type": "markdown",
   "metadata": {},
   "source": [
    "Check that mask storage is contiguous."
   ]
  },
  {
   "cell_type": "code",
   "execution_count": 27,
   "metadata": {},
   "outputs": [
    {
     "data": {
      "text/plain": [
       "True"
      ]
     },
     "execution_count": 27,
     "metadata": {},
     "output_type": "execute_result"
    }
   ],
   "source": [
    "mask.is_contiguous()"
   ]
  },
  {
   "cell_type": "markdown",
   "metadata": {},
   "source": [
    "Create bare weight matrix."
   ]
  },
  {
   "cell_type": "code",
   "execution_count": 39,
   "metadata": {},
   "outputs": [
    {
     "data": {
      "text/plain": [
       "tensor([[1., 1., 1., 1., 1., 1., 1., 1.],\n",
       "        [1., 1., 1., 1., 1., 1., 1., 1.],\n",
       "        [1., 1., 1., 1., 1., 1., 1., 1.],\n",
       "        [1., 1., 1., 1., 1., 1., 1., 1.],\n",
       "        [1., 1., 1., 1., 1., 1., 1., 1.],\n",
       "        [1., 1., 1., 1., 1., 1., 1., 1.],\n",
       "        [1., 1., 1., 1., 1., 1., 1., 1.],\n",
       "        [1., 1., 1., 1., 1., 1., 1., 1.],\n",
       "        [1., 1., 1., 1., 1., 1., 1., 1.],\n",
       "        [1., 1., 1., 1., 1., 1., 1., 1.],\n",
       "        [1., 1., 1., 1., 1., 1., 1., 1.],\n",
       "        [1., 1., 1., 1., 1., 1., 1., 1.]], requires_grad=True)"
      ]
     },
     "execution_count": 39,
     "metadata": {},
     "output_type": "execute_result"
    }
   ],
   "source": [
    "weight = torch.ones(units*out_features, units*in_features, requires_grad=True)\n",
    "weight"
   ]
  },
  {
   "cell_type": "markdown",
   "metadata": {},
   "source": [
    "Mask the weight matrix with the mask."
   ]
  },
  {
   "cell_type": "code",
   "execution_count": 40,
   "metadata": {},
   "outputs": [
    {
     "data": {
      "text/plain": [
       "tensor([[0., 0., 0., 0., 0., 0., 0., 0.],\n",
       "        [0., 0., 0., 0., 0., 0., 0., 0.],\n",
       "        [0., 0., 0., 0., 0., 0., 0., 0.],\n",
       "        [1., 1., 0., 0., 0., 0., 0., 0.],\n",
       "        [1., 1., 0., 0., 0., 0., 0., 0.],\n",
       "        [1., 1., 0., 0., 0., 0., 0., 0.],\n",
       "        [1., 1., 1., 1., 0., 0., 0., 0.],\n",
       "        [1., 1., 1., 1., 0., 0., 0., 0.],\n",
       "        [1., 1., 1., 1., 0., 0., 0., 0.],\n",
       "        [1., 1., 1., 1., 1., 1., 0., 0.],\n",
       "        [1., 1., 1., 1., 1., 1., 0., 0.],\n",
       "        [1., 1., 1., 1., 1., 1., 0., 0.]], grad_fn=<MulBackward0>)"
      ]
     },
     "execution_count": 40,
     "metadata": {},
     "output_type": "execute_result"
    }
   ],
   "source": [
    "masked_weight = mask * weight\n",
    "masked_weight"
   ]
  },
  {
   "cell_type": "markdown",
   "metadata": {},
   "source": [
    "The masked weight matrix can be used in the loss function. The gradient signal is also masked automatically."
   ]
  },
  {
   "cell_type": "code",
   "execution_count": 37,
   "metadata": {},
   "outputs": [
    {
     "data": {
      "text/plain": [
       "tensor([[0., 0., 0., 0., 0., 0., 0., 0.],\n",
       "        [0., 0., 0., 0., 0., 0., 0., 0.],\n",
       "        [0., 0., 0., 0., 0., 0., 0., 0.],\n",
       "        [2., 2., 0., 0., 0., 0., 0., 0.],\n",
       "        [2., 2., 0., 0., 0., 0., 0., 0.],\n",
       "        [2., 2., 0., 0., 0., 0., 0., 0.],\n",
       "        [2., 2., 2., 2., 0., 0., 0., 0.],\n",
       "        [2., 2., 2., 2., 0., 0., 0., 0.],\n",
       "        [2., 2., 2., 2., 0., 0., 0., 0.],\n",
       "        [2., 2., 2., 2., 2., 2., 0., 0.],\n",
       "        [2., 2., 2., 2., 2., 2., 0., 0.],\n",
       "        [2., 2., 2., 2., 2., 2., 0., 0.]])"
      ]
     },
     "execution_count": 37,
     "metadata": {},
     "output_type": "execute_result"
    }
   ],
   "source": [
    "loss = (masked_weight).norm()**2\n",
    "loss.backward()\n",
    "weight.grad"
   ]
  },
  {
   "cell_type": "markdown",
   "metadata": {},
   "source": [
    "### Implementation"
   ]
  },
  {
   "cell_type": "code",
   "execution_count": 972,
   "metadata": {},
   "outputs": [],
   "source": [
    "class AutoregressiveLinear(nn.Linear):\n",
    "    \"\"\" Applies a lienar transformation to the incoming data, \n",
    "        with the weight matrix masked to the lower-triangle. \n",
    "        \n",
    "        Args:\n",
    "        in_features: size of each input sample\n",
    "        out_features: size of each output sample\n",
    "        bias: If set to ``False``, the layer will not learn an additive bias.\n",
    "            Default: ``True``\n",
    "        diagonal: the diagonal to trucate to\"\"\"\n",
    "    \n",
    "    def __init__(self, units, in_features, out_features, bias=True, diagonal=0):\n",
    "        super(AutoregressiveLinear, self).__init__(units*in_features, units*out_features, bias)\n",
    "        self.units = units\n",
    "        self.in_features = in_features\n",
    "        self.out_features = out_features\n",
    "        self.diagonal = diagonal\n",
    "        self.mask = torch.tensordot(torch.tril(torch.ones(units, units), diagonal), torch.ones(out_features, in_features), dims=0).transpose(1,2).reshape(units*out_features, units*in_features)\n",
    "\n",
    "    \n",
    "    def extra_repr(self):\n",
    "        return 'unites={}, in_features={}, out_features={}, bias={}, diagonal={}'.format(self.units, self.in_features, self.out_features, not self.bias is None, self.diagonal)\n",
    "    \n",
    "    # overwrite forward pass\n",
    "    def forward(self, input):\n",
    "        return F.linear(input, self.mask * self.weight, self.bias)\n",
    "    \n",
    "    def forward_at(self, input, i):\n",
    "        # pick out the weight block that is active\n",
    "        active_weight = self.weight.narrow(0, i*self.out_features, self.out_features) # narrow out the rows\n",
    "        active_weight = active_weight.narrow(1, 0, (i + 1 + self.diagonal)*self.in_features) # narrow out the columns\n",
    "        # pick out the input block that is active\n",
    "        active_input = input.narrow(-1, 0, (i + 1 + self.diagonal)*self.in_features)\n",
    "        # transform active input by active weight\n",
    "        output = active_input.matmul(active_weight.t())\n",
    "        if self.bias is not None: # if bias exists, add it\n",
    "            output += self.bias.narrow(0, i*self.out_features, self.out_features)\n",
    "        return output"
   ]
  },
  {
   "cell_type": "markdown",
   "metadata": {},
   "source": [
    "Create an autoregrssive linear layer."
   ]
  },
  {
   "cell_type": "code",
   "execution_count": 409,
   "metadata": {},
   "outputs": [],
   "source": [
    "al = AutoregressiveLinear(4,2,3, diagonal=-1)"
   ]
  },
  {
   "cell_type": "markdown",
   "metadata": {},
   "source": [
    "Forward at a particular unit."
   ]
  },
  {
   "cell_type": "code",
   "execution_count": 410,
   "metadata": {},
   "outputs": [
    {
     "data": {
      "text/plain": [
       "tensor([[ 0.0791, -0.0960, -0.5842],\n",
       "        [ 0.1090, -0.1339, -0.6587],\n",
       "        [-0.1859, -0.0595, -0.6251],\n",
       "        [ 0.0702, -0.1277, -0.6627],\n",
       "        [-0.0785, -0.0822, -0.6271]], grad_fn=<AddBackward0>)"
      ]
     },
     "execution_count": 410,
     "metadata": {},
     "output_type": "execute_result"
    }
   ],
   "source": [
    "data = torch.rand([5,8])\n",
    "al.forward_at(data, 1)"
   ]
  },
  {
   "cell_type": "markdown",
   "metadata": {},
   "source": [
    "Test gradient signals for unit-targeted forward pass. Gradient signals are masked automatically."
   ]
  },
  {
   "cell_type": "code",
   "execution_count": 414,
   "metadata": {},
   "outputs": [
    {
     "data": {
      "text/plain": [
       "[tensor([[ 0.0000,  0.0000,  0.0000,  0.0000,  0.0000,  0.0000,  0.0000,  0.0000],\n",
       "         [ 0.0000,  0.0000,  0.0000,  0.0000,  0.0000,  0.0000,  0.0000,  0.0000],\n",
       "         [ 0.0000,  0.0000,  0.0000,  0.0000,  0.0000,  0.0000,  0.0000,  0.0000],\n",
       "         [ 0.0000,  0.0000,  0.0000,  0.0000,  0.0000,  0.0000,  0.0000,  0.0000],\n",
       "         [ 0.0000,  0.0000,  0.0000,  0.0000,  0.0000,  0.0000,  0.0000,  0.0000],\n",
       "         [ 0.0000,  0.0000,  0.0000,  0.0000,  0.0000,  0.0000,  0.0000,  0.0000],\n",
       "         [-0.1247, -0.4670, -0.4633, -0.3792,  0.0000,  0.0000,  0.0000,  0.0000],\n",
       "         [ 2.5142,  1.7494,  2.9878,  1.3875,  0.0000,  0.0000,  0.0000,  0.0000],\n",
       "         [ 1.0165,  1.0129,  1.4145,  0.9168,  0.0000,  0.0000,  0.0000,  0.0000],\n",
       "         [ 0.0000,  0.0000,  0.0000,  0.0000,  0.0000,  0.0000,  0.0000,  0.0000],\n",
       "         [ 0.0000,  0.0000,  0.0000,  0.0000,  0.0000,  0.0000,  0.0000,  0.0000],\n",
       "         [ 0.0000,  0.0000,  0.0000,  0.0000,  0.0000,  0.0000,  0.0000,  0.0000]]),\n",
       " tensor([ 0.0000,  0.0000,  0.0000,  0.0000,  0.0000,  0.0000, -0.4984,  4.0974,\n",
       "          1.8978,  0.0000,  0.0000,  0.0000])]"
      ]
     },
     "execution_count": 414,
     "metadata": {},
     "output_type": "execute_result"
    }
   ],
   "source": [
    "al.zero_grad()\n",
    "loss = al.forward_at(data, 2).norm()**2\n",
    "loss.backward()\n",
    "[p.grad for p in al.parameters()]"
   ]
  },
  {
   "cell_type": "markdown",
   "metadata": {},
   "source": [
    "## Autoregressive Model"
   ]
  },
  {
   "cell_type": "markdown",
   "metadata": {},
   "source": [
    "### Implementation"
   ]
  },
  {
   "cell_type": "markdown",
   "metadata": {},
   "source": [
    "- The implementation work with one-hot encodings of spin configurations. Input sample is of the size (batch size, unit size x feature size) $x_{i\\alpha}^{(n)}$: $n$ - sample index, $i$ - unit index, $\\alpha$ - feature index.\n",
    "- On the evaluation side, log probability is evaluated as \n",
    "$$\\log p(x)=\\sum_{i,\\alpha}x_{i\\alpha}\\log p_{i\\alpha},$$\n",
    "which generalize to the case when $x$ is soft.\n",
    "- On the sampling side, $\\log p_{i\\alpha}$ will be calculated autoregressively and $x_{i\\alpha}$ is sampled by\n",
    "$$x_{i\\alpha}\\sim \\frac{\\exp((\\log p_{i\\alpha}+g_{i\\alpha})/\\tau)}{\\sum_{\\beta}\\exp((\\log p_{i\\beta}+g_{i\\beta})/\\tau)},$$\n",
    "where $g_{i\\alpha}$ is independently sampled from Gumbel distribution and $\\tau$ is the temperature parameter to control the softness."
   ]
  },
  {
   "cell_type": "code",
   "execution_count": 1000,
   "metadata": {},
   "outputs": [],
   "source": [
    "class AutoregressiveModel(nn.Module):\n",
    "    \"\"\" Represent a generative model that can generate samples and provide log probability evaluations.\n",
    "        \n",
    "        Args:\n",
    "        units: number of units in the model\n",
    "        features: a list of feature dimensions from the input layer to the output layer\n",
    "        nonlinearity: activation function to use \"\"\"\n",
    "    \n",
    "    def __init__(self, units, features, nonlinearity='ReLU'):\n",
    "        super(AutoregressiveModel, self).__init__()\n",
    "        self.units = units\n",
    "        self.features = features\n",
    "        if features[0] != features[-1]:\n",
    "            raise ValueError('In features {}, the first and last feature dimensions must be equal.'.format(features))\n",
    "        self.layers = nn.ModuleList()\n",
    "        for l in range(len(features)-1):\n",
    "            if l == 0: # first autoregressive linear layer must have diagonal=-1\n",
    "                layer = AutoregressiveLinear(units, features[0], features[1], bias=False, diagonal=-1)\n",
    "                #layer.bias.requires_grad = False\n",
    "                #layer.bias.data.fill_(-1./features[0])\n",
    "                #layer.weight.data.fill_(0.)\n",
    "                self.layers.append(layer)\n",
    "            else: # remaining autoregressive linear layers have diagonal=0 (by default)\n",
    "                self.layers.append(getattr(nn, nonlinearity)())\n",
    "                layer = AutoregressiveLinear(units, features[l], features[l+1], bias=False)\n",
    "                #layer.weight.data.fill_(0.)\n",
    "                self.layers.append(layer)\n",
    "    \n",
    "    def extra_repr(self):\n",
    "        return '(units): {}\\n(features): {}'.format(self.units, self.features) + super(AutoregressiveModel, self).extra_repr()\n",
    "    \n",
    "    def forward(self, input):\n",
    "        logits = input # logits as a workspace, initialized to input\n",
    "        for layer in self.layers: # apply layers\n",
    "            logits = layer(logits)\n",
    "        return logits # logits output\n",
    "    \n",
    "    def log_prob(self, input):\n",
    "        logits = self(input).view(-1, self.units, self.features[-1]) # forward pass to get logits\n",
    "        input = input.view(-1, self.units, self.features[0])\n",
    "        return torch.sum(F.softmax(logits, dim=-1).log() * input, (-2,-1))\n",
    "        \n",
    "    def _xsample(self, batch_size, tau, hard):\n",
    "        # create a list to host layer-wise outputs\n",
    "        record = [torch.empty(batch_size, 0) for _ in self.features]\n",
    "        # autoregressive batch sampling\n",
    "        for i in range(self.units):\n",
    "            for l in range(len(self.features)-1):\n",
    "                if l==0: # first linear layer\n",
    "                    output = self.layers[0].forward_at(record[0], i)\n",
    "                else: # remaining layers\n",
    "                    output = self.layers[2*l-1](output) # element-wise layer\n",
    "                    record[l] = torch.cat([record[l], output], dim=-1) # concatenate output to record\n",
    "                    output = self.layers[2*l].forward_at(record[l], i)\n",
    "            # record[-1] = torch.cat([record[-1],  output], dim=-1) # for debug purpose\n",
    "            # the last output hosts logits, sample by Gumbel softmax \n",
    "            sample = F.gumbel_softmax(output, tau, hard)\n",
    "            record[0] = torch.cat([record[0], sample], dim=-1) # concatenate sample to record\n",
    "        return record\n",
    "    \n",
    "    def rsample(self, batch_size=1, tau=None, hard=False):\n",
    "        if tau is None: # if temperature not given\n",
    "            tau = 1/(self.features[-1]-1) # set by the out feature dimension\n",
    "        return self._xsample(batch_size, tau, hard)[0]\n",
    "    \n",
    "    def sample(self, batch_size=1, tau=None, hard=False):\n",
    "        with torch.no_grad(): # no gradient for sample generation\n",
    "            return self.rsample(batch_size, tau, hard)"
   ]
  },
  {
   "cell_type": "markdown",
   "metadata": {},
   "source": [
    "Evaluate log probability."
   ]
  },
  {
   "cell_type": "code",
   "execution_count": 448,
   "metadata": {},
   "outputs": [
    {
     "name": "stdout",
     "output_type": "stream",
     "text": [
      "tensor([[1., 0., 0., 1., 0., 1., 1., 0.],\n",
      "        [1., 0., 1., 0., 0., 1., 1., 0.],\n",
      "        [1., 0., 1., 0., 0., 1., 0., 1.],\n",
      "        [1., 0., 1., 0., 1., 0., 0., 1.],\n",
      "        [1., 0., 0., 1., 0., 1., 0., 1.]])\n"
     ]
    },
    {
     "data": {
      "text/plain": [
       "tensor([-2.4279, -2.3005, -2.8079, -3.3546, -3.0945], grad_fn=<SumBackward1>)"
      ]
     },
     "execution_count": 448,
     "metadata": {},
     "output_type": "execute_result"
    }
   ],
   "source": [
    "model = AutoregressiveModel(4, [2, 3, 2])\n",
    "data = torch.bernoulli(0.5*torch.ones([5,4]))\n",
    "data = torch.stack([data,1-data]).permute(1,2,0).reshape(5,8)\n",
    "print(data)\n",
    "model.log_prob(data)"
   ]
  },
  {
   "cell_type": "markdown",
   "metadata": {},
   "source": [
    "Reparametrized sampling by Gumbel softmax. Hard samples and soft samples."
   ]
  },
  {
   "cell_type": "code",
   "execution_count": 449,
   "metadata": {},
   "outputs": [
    {
     "data": {
      "text/plain": [
       "tensor([[1., 0., 0., 1., 1., 0., 1., 0.],\n",
       "        [0., 1., 0., 1., 1., 0., 1., 0.],\n",
       "        [0., 1., 0., 1., 1., 0., 0., 1.],\n",
       "        [0., 1., 1., 0., 1., 0., 0., 1.],\n",
       "        [1., 0., 0., 1., 1., 0., 1., 0.]], grad_fn=<CatBackward>)"
      ]
     },
     "execution_count": 449,
     "metadata": {},
     "output_type": "execute_result"
    }
   ],
   "source": [
    "model.rsample(5, hard=True)"
   ]
  },
  {
   "cell_type": "code",
   "execution_count": 450,
   "metadata": {},
   "outputs": [
    {
     "data": {
      "text/plain": [
       "tensor([[0.0236, 0.9764, 0.7538, 0.2462, 0.2681, 0.7319, 0.7210, 0.2790],\n",
       "        [0.8046, 0.1954, 0.7568, 0.2432, 0.4118, 0.5882, 0.3657, 0.6343],\n",
       "        [0.5505, 0.4495, 0.3652, 0.6348, 0.9307, 0.0693, 0.8682, 0.1318],\n",
       "        [0.9299, 0.0701, 0.5247, 0.4753, 0.2937, 0.7063, 0.8528, 0.1472],\n",
       "        [0.4403, 0.5597, 0.6384, 0.3616, 0.3969, 0.6031, 0.9476, 0.0524]],\n",
       "       grad_fn=<CatBackward>)"
      ]
     },
     "execution_count": 450,
     "metadata": {},
     "output_type": "execute_result"
    }
   ],
   "source": [
    "model.rsample(5, hard=False)"
   ]
  },
  {
   "cell_type": "markdown",
   "metadata": {},
   "source": [
    "**Issue to Address**: \n",
    "- How to select the temperature parameter $\\tau$? Will it alter the universality class?\n",
    "- How do we pin the critical point? Can we enforce criticality by imposing the duality as a symmetry?\n",
    "- How does the computational complexity scales with system size and state space dimension?"
   ]
  },
  {
   "cell_type": "markdown",
   "metadata": {},
   "source": [
    "## Statistical Mechanics System"
   ]
  },
  {
   "cell_type": "markdown",
   "metadata": {},
   "source": [
    "### Framework"
   ]
  },
  {
   "cell_type": "markdown",
   "metadata": {},
   "source": [
    "- **Bond Weight**. The statistical mechanics model is defined by the statistical weight between two spins. As the spin state is one-hot encoded, the statistical weight can be represented as a matrix. For Ising model\n",
    "$$W(\\beta)=\\begin{bmatrix}e^{\\beta} & e^{-\\beta}\\\\ e^{-\\beta} & e^{\\beta}\\end{bmatrix}.$$\n",
    "\n",
    "- **Transfer Weight**. Transfer matrix element $T(x,x')$, evaluated as\n",
    "$$T(x,x')=\\prod_{i}(x'_i)^\\intercal W x'_{i+1}\\prod_{i}x_i^\\intercal W x'_i.$$\n",
    "\n",
    "- **Marginalized Transfer Weight**. Marginalize over $x$, $T(x')=\\sum_x T(x,x')$, evaluated as\n",
    "$$T(x,x')=\\prod_{i}(x'_i)^\\intercal W x'_{i+1}\\prod_{i} w^\\intercal x'_i,$$\n",
    "where $w_\\beta=\\sum_{\\alpha}W_{\\alpha\\beta}$."
   ]
  },
  {
   "cell_type": "markdown",
   "metadata": {},
   "source": [
    "The class `StatMechSystem` evaluates $T(x,x')$ and $T(x')$ given the bond weight matrix $W$."
   ]
  },
  {
   "cell_type": "code",
   "execution_count": 973,
   "metadata": {},
   "outputs": [],
   "source": [
    "class StatMechSystem(nn.Module):\n",
    "    ''' Provide evaluation for the transfer weight and its marginalization.\n",
    "        \n",
    "        Args:\n",
    "        units: number of units in the model (system size)\n",
    "        bond_weight: bond weight matrix'''\n",
    "    \n",
    "    def __init__(self, units, bond_weight):\n",
    "        super(StatMechSystem, self).__init__()\n",
    "        self.units = units\n",
    "        self.W = bond_weight\n",
    "        self.w = bond_weight.sum(0)\n",
    "        self.states = len(bond_weight)\n",
    "        \n",
    "    def forward(self, *xs):\n",
    "        # receive configurations and view in tensor form\n",
    "        x = None\n",
    "        if len(xs) == 1:\n",
    "            xp = xs[0].view(1, -1, self.units, self.states)\n",
    "        elif len(xs) == 2:\n",
    "            x = xs[0].view(-1, 1, self.units, self.states)\n",
    "            xp = xs[1].view(1, -1, self.units, self.states)\n",
    "        else:\n",
    "            raise ValueError('Expect 1 or 2 arguments. Get {} arguments.'.format(len(xs)))\n",
    "        # compute the horizontal product\n",
    "        Th = torch.prod(torch.sum(xp.matmul(self.W) * xp.roll(1, -2), -1), -1)\n",
    "        # compute the vertical product\n",
    "        if x is None:\n",
    "            Tv = torch.prod(xp.matmul(self.w), -1)\n",
    "        else:\n",
    "            Tv = torch.prod(torch.sum(x.matmul(self.W) * xp, -1), -1)\n",
    "        return Th * Tv"
   ]
  },
  {
   "cell_type": "markdown",
   "metadata": {},
   "source": [
    "Define a function `Ising` to compute the bond weight matrix for Ising model at inverse temperature $\\beta$."
   ]
  },
  {
   "cell_type": "code",
   "execution_count": 337,
   "metadata": {},
   "outputs": [
    {
     "data": {
      "text/plain": [
       "tensor([[2.7183, 0.3679],\n",
       "        [0.3679, 2.7183]])"
      ]
     },
     "execution_count": 337,
     "metadata": {},
     "output_type": "execute_result"
    }
   ],
   "source": [
    "def Ising(beta):\n",
    "    return torch.exp(beta * torch.tensor([[1.,-1.],[-1.,1.]]))\n",
    "Ising(1.)"
   ]
  },
  {
   "cell_type": "markdown",
   "metadata": {},
   "source": [
    "### Construct Loss Function"
   ]
  },
  {
   "cell_type": "markdown",
   "metadata": {},
   "source": [
    "Now we have all ingredients ready to construct the loss function\n",
    "$$\\mathcal{L}=\\sum_{x\\sim p}\\bigg(\\ln p(x)-\\ln\\frac{\\sum_{x'\\sim p}T(x,x')}{\\sum_{x'\\sim p}T(x')}\\bigg).$$"
   ]
  },
  {
   "cell_type": "markdown",
   "metadata": {},
   "source": [
    "- Create an **autoregressive model**."
   ]
  },
  {
   "cell_type": "code",
   "execution_count": 974,
   "metadata": {},
   "outputs": [],
   "source": [
    "system_size = 4\n",
    "model = AutoregressiveModel(system_size, [2, 3, 2])"
   ]
  },
  {
   "cell_type": "markdown",
   "metadata": {},
   "source": [
    "- Setup the **statistical mechanical system** of the same system size for Ising model at a given inverse temperature."
   ]
  },
  {
   "cell_type": "code",
   "execution_count": 975,
   "metadata": {},
   "outputs": [],
   "source": [
    "T = StatMechSystem(system_size, Ising(1.))"
   ]
  },
  {
   "cell_type": "markdown",
   "metadata": {},
   "source": [
    "- **Dual sampling**. Draw samples for $x$ and $x'$ independently from the autoregressive model. Each row is a sample. Each sample is of the size system_size x 2, which can be further partitioned into list of two-component state vectors."
   ]
  },
  {
   "cell_type": "code",
   "execution_count": 969,
   "metadata": {},
   "outputs": [
    {
     "name": "stdout",
     "output_type": "stream",
     "text": [
      "tensor([[1., 0., 1., 0., 1., 0., 1., 0.],\n",
      "        [1., 0., 0., 1., 1., 0., 0., 1.],\n",
      "        [0., 1., 1., 0., 1., 0., 0., 1.],\n",
      "        [0., 1., 0., 1., 0., 1., 0., 1.],\n",
      "        [1., 0., 0., 1., 0., 1., 0., 1.]], grad_fn=<CatBackward>)\n",
      "tensor([[1., 0., 1., 0., 0., 1., 0., 1.],\n",
      "        [1., 0., 1., 0., 0., 1., 0., 1.],\n",
      "        [0., 1., 1., 0., 1., 0., 0., 1.],\n",
      "        [0., 1., 0., 1., 1., 0., 1., 0.],\n",
      "        [0., 1., 0., 1., 0., 1., 0., 1.]], grad_fn=<CatBackward>)\n"
     ]
    }
   ],
   "source": [
    "batch_size = 5\n",
    "x = model.rsample(batch_size, hard=True)\n",
    "xp = model.rsample(batch_size, hard=True)\n",
    "print(x)\n",
    "print(xp)"
   ]
  },
  {
   "cell_type": "markdown",
   "metadata": {},
   "source": [
    "- **Log probability** is evaluated by the autoregressive model. Result is a vector of batch size. Each element is $\\ln p(x)$ for a sample of $x$."
   ]
  },
  {
   "cell_type": "code",
   "execution_count": 964,
   "metadata": {},
   "outputs": [
    {
     "data": {
      "text/plain": [
       "tensor([-2.7726, -2.7726, -2.7726, -2.7726, -2.7726], grad_fn=<SumBackward1>)"
      ]
     },
     "execution_count": 964,
     "metadata": {},
     "output_type": "execute_result"
    }
   ],
   "source": [
    "model.log_prob(x)"
   ]
  },
  {
   "cell_type": "markdown",
   "metadata": {},
   "source": [
    "- **Transfer Weight and its Marginalization** are evaluated by the statistical mechanical system. The transfer weight $T(x,x')$ is stored as a matrix for each pair of $(x,x')$. The marignalized transfer weight $T(x')$ is stored as a vector for each sample of $x'$."
   ]
  },
  {
   "cell_type": "code",
   "execution_count": 965,
   "metadata": {},
   "outputs": [
    {
     "name": "stdout",
     "output_type": "stream",
     "text": [
      "tensor([[1.0000e+00, 5.4598e+01, 1.0000e+00, 1.3534e-01, 5.4598e+01],\n",
      "        [1.0000e+00, 5.4598e+01, 1.0000e+00, 7.3891e+00, 1.8316e-02],\n",
      "        [1.3534e-01, 4.0343e+02, 7.3891e+00, 1.0000e+00, 7.3891e+00],\n",
      "        [7.3891e+00, 7.3891e+00, 1.3534e-01, 1.8316e-02, 7.3891e+00],\n",
      "        [1.0000e+00, 5.4598e+01, 1.0000e+00, 1.3534e-01, 5.4598e+01]],\n",
      "       grad_fn=<MulBackward0>)\n",
      "tensor([[  90.7140, 4952.8169,   90.7140,   90.7140,   90.7140]],\n",
      "       grad_fn=<MulBackward0>)\n"
     ]
    }
   ],
   "source": [
    "print(T(x, xp))\n",
    "print(T(xp))"
   ]
  },
  {
   "cell_type": "markdown",
   "metadata": {},
   "source": [
    "Assemble these terms to construct the **loss function**. Using PyTorch autogradient to calcualate the differentiation of the loss function with respect to the parameters. They indeed receives the gradient signal as expected."
   ]
  },
  {
   "cell_type": "code",
   "execution_count": 976,
   "metadata": {},
   "outputs": [
    {
     "name": "stdout",
     "output_type": "stream",
     "text": [
      "loss:  tensor(-0.4376, grad_fn=<SubBackward0>)\n"
     ]
    },
    {
     "data": {
      "text/plain": [
       "[tensor([[ 0.0000,  0.0000,  0.0000,  0.0000,  0.0000,  0.0000,  0.0000,  0.0000],\n",
       "         [ 0.0000,  0.0000,  0.0000,  0.0000,  0.0000,  0.0000,  0.0000,  0.0000],\n",
       "         [ 0.0000,  0.0000,  0.0000,  0.0000,  0.0000,  0.0000,  0.0000,  0.0000],\n",
       "         [-0.0565, -0.1226,  0.0000,  0.0000,  0.0000,  0.0000,  0.0000,  0.0000],\n",
       "         [-0.0068, -0.0653,  0.0000,  0.0000,  0.0000,  0.0000,  0.0000,  0.0000],\n",
       "         [-0.0916, -0.0632,  0.0000,  0.0000,  0.0000,  0.0000,  0.0000,  0.0000],\n",
       "         [-0.0467, -0.0311, -0.1466,  0.0687,  0.0000,  0.0000,  0.0000,  0.0000],\n",
       "         [-0.0280, -0.0982, -0.0227, -0.1034,  0.0000,  0.0000,  0.0000,  0.0000],\n",
       "         [-0.0825, -0.0589, -0.2415,  0.1002,  0.0000,  0.0000,  0.0000,  0.0000],\n",
       "         [-0.0220,  0.0199, -0.0911,  0.0890, -0.0802,  0.0781,  0.0000,  0.0000],\n",
       "         [-0.0053,  0.0037, -0.0221,  0.0204, -0.0198,  0.0181,  0.0000,  0.0000],\n",
       "         [-0.0274,  0.0226, -0.1176,  0.1129, -0.1043,  0.0996,  0.0000,  0.0000]]),\n",
       " tensor([[ 0.0000,  0.0000,  0.0000,  0.0000,  0.0000,  0.0000,  0.0000,  0.0000,\n",
       "           0.0000,  0.0000,  0.0000,  0.0000],\n",
       "         [ 0.0000,  0.0000,  0.0000,  0.0000,  0.0000,  0.0000,  0.0000,  0.0000,\n",
       "           0.0000,  0.0000,  0.0000,  0.0000],\n",
       "         [ 0.0000,  0.0000,  0.0000,  0.0095, -0.0161,  0.0037,  0.0000,  0.0000,\n",
       "           0.0000,  0.0000,  0.0000,  0.0000],\n",
       "         [ 0.0000,  0.0000,  0.0000, -0.0095,  0.0161, -0.0037,  0.0000,  0.0000,\n",
       "           0.0000,  0.0000,  0.0000,  0.0000],\n",
       "         [ 0.0000,  0.0000,  0.0000, -0.0429, -0.0082, -0.0598,  0.2433,  0.0980,\n",
       "          -0.1508,  0.0000,  0.0000,  0.0000],\n",
       "         [ 0.0000,  0.0000,  0.0000,  0.0429,  0.0082,  0.0598, -0.2433, -0.0980,\n",
       "           0.1508,  0.0000,  0.0000,  0.0000],\n",
       "         [ 0.0000,  0.0000,  0.0000, -0.0270,  0.0078, -0.0307, -0.0738,  0.0033,\n",
       "           0.0843,  0.0295, -0.0830,  0.0933],\n",
       "         [ 0.0000,  0.0000,  0.0000,  0.0270, -0.0078,  0.0307,  0.0738, -0.0033,\n",
       "          -0.0843, -0.0295,  0.0830, -0.0933]])]"
      ]
     },
     "execution_count": 976,
     "metadata": {},
     "output_type": "execute_result"
    }
   ],
   "source": [
    "x = model.rsample(batch_size)\n",
    "xp = model.rsample(batch_size)\n",
    "loss = model.log_prob(x).sum() - torch.log(T(x, xp).sum(1)/T(xp).sum(1)).sum()\n",
    "print('loss: ', loss)\n",
    "loss.backward()\n",
    "[para.grad for para in model.parameters()]"
   ]
  },
  {
   "cell_type": "markdown",
   "metadata": {},
   "source": [
    "### Test"
   ]
  },
  {
   "cell_type": "markdown",
   "metadata": {},
   "source": [
    "**Observations**:\n",
    "- Model still suffers from mode collapse.\n",
    "- Gradient signal has a large variance. \n",
    "\n",
    "**Possible Problems**: the $\\ln\\sum_{x'\\sim p}T(x,x')$ and $\\ln\\sum_{x'\\sim p}T(x')$ terms can not be reliably estimated because of the large fluctuation of $T$. The design of the loss function need to be improved. The ensemble average should be moved outof the logarithm."
   ]
  },
  {
   "cell_type": "code",
   "execution_count": 1001,
   "metadata": {},
   "outputs": [],
   "source": [
    "(system_size, batch_size) = (2, 200)\n",
    "model = AutoregressiveModel(system_size, [2, 10, 10, 2])\n",
    "T = StatMechSystem(system_size, Ising(1.))\n",
    "optimizer = optim.Adam(model.parameters(), lr=1.)"
   ]
  },
  {
   "cell_type": "code",
   "execution_count": 1007,
   "metadata": {},
   "outputs": [
    {
     "name": "stdout",
     "output_type": "stream",
     "text": [
      "loss: 7.1227, correlation: -0.0108\n",
      "loss: 7.0497, correlation: -0.0054\n",
      "loss: 7.3200, correlation: -0.0038\n",
      "loss: 7.9111, correlation: -0.0232\n",
      "loss: 7.1650, correlation: -0.0198\n"
     ]
    }
   ],
   "source": [
    "train_loss = 0.\n",
    "tau = 0.3\n",
    "for epoch in range(500):\n",
    "    x = model.rsample(batch_size, tau)\n",
    "    xp = model.rsample(batch_size, tau)\n",
    "    loss = model.log_prob(x).sum() - torch.log(T(x, xp).sum(1)/T(xp).sum(1)).sum()\n",
    "    optimizer.zero_grad()\n",
    "    loss.backward()\n",
    "    optimizer.step()\n",
    "    train_loss += loss.item()\n",
    "    if (epoch+1)%100 == 0:\n",
    "        print('loss: {:.4f}, correlation: {:.4f}'.format(train_loss / 100, torch.prod(model.sample(10000, tau, True).matmul(torch.tensor([[1.,0.],[-1.,0.],[0.,1.],[0.,-1.]])),-1).mean()))\n",
    "        train_loss = 0."
   ]
  },
  {
   "cell_type": "code",
   "execution_count": 982,
   "metadata": {},
   "outputs": [
    {
     "data": {
      "text/plain": [
       "[Parameter containing:\n",
       " tensor([[-0.3940, -0.3310, -0.3502,  0.0706],\n",
       "         [-0.3174,  0.1132,  0.0914,  0.3068],\n",
       "         [ 0.4851, -0.3601, -0.2903, -0.2764],\n",
       "         [ 0.1664,  0.0720, -0.4915, -0.4049],\n",
       "         [ 0.1768, -0.3020,  0.1748,  0.2280],\n",
       "         [ 0.0121, -0.1255,  0.1490, -0.0668],\n",
       "         [-0.4389,  0.4183, -0.2526,  0.1294],\n",
       "         [ 0.4986,  0.4828,  0.4501,  0.3138]], requires_grad=True),\n",
       " Parameter containing:\n",
       " tensor([[ 0.1909,  0.2095,  0.1673,  0.1185,  0.1551, -0.0034,  0.2860, -0.0545],\n",
       "         [-0.2146, -0.0631, -0.0016,  0.2494, -0.1496, -0.2477, -0.3377,  0.0333],\n",
       "         [ 0.3149,  0.1239, -0.0614,  0.2978, -0.2061,  0.2704, -0.0429, -0.2942],\n",
       "         [ 0.3032,  0.0909,  0.3276,  0.1619, -0.1066,  0.0306,  0.2628,  0.1639]],\n",
       "        requires_grad=True)]"
      ]
     },
     "execution_count": 982,
     "metadata": {},
     "output_type": "execute_result"
    }
   ],
   "source": [
    "[p for p in model.parameters()]"
   ]
  },
  {
   "cell_type": "code",
   "execution_count": 1006,
   "metadata": {},
   "outputs": [
    {
     "data": {
      "text/plain": [
       "tensor([[1., 0., 0., 1.],\n",
       "        [0., 1., 0., 1.],\n",
       "        [0., 1., 0., 1.],\n",
       "        [0., 1., 0., 1.],\n",
       "        [0., 1., 0., 1.],\n",
       "        [0., 1., 0., 1.],\n",
       "        [1., 0., 1., 0.],\n",
       "        [0., 1., 0., 1.],\n",
       "        [0., 1., 0., 1.],\n",
       "        [0., 1., 1., 0.]])"
      ]
     },
     "execution_count": 1006,
     "metadata": {},
     "output_type": "execute_result"
    }
   ],
   "source": [
    "model.sample(10, tau, True)"
   ]
  },
  {
   "cell_type": "markdown",
   "metadata": {},
   "source": []
  },
  {
   "cell_type": "markdown",
   "metadata": {},
   "source": [
    "generative model $p(x)$"
   ]
  },
  {
   "cell_type": "markdown",
   "metadata": {},
   "source": [
    "$\\bar{E} = \\sum_x p(x)E(x) =\\sum_{x\\sim p} E(x)$"
   ]
  },
  {
   "cell_type": "markdown",
   "metadata": {},
   "source": [
    "Free energy $F = \\sum_x p(x)E(x) - T (-\\sum_{x} p(x)\\ln p(x))=\\sum_{x\\sim p}(E(x)+ T \\ln p(x))$"
   ]
  },
  {
   "cell_type": "code",
   "execution_count": null,
   "metadata": {},
   "outputs": [],
   "source": []
  }
 ],
 "metadata": {
  "kernelspec": {
   "display_name": "Python 3",
   "language": "python",
   "name": "python3"
  },
  "language_info": {
   "codemirror_mode": {
    "name": "ipython",
    "version": 3
   },
   "file_extension": ".py",
   "mimetype": "text/x-python",
   "name": "python",
   "nbconvert_exporter": "python",
   "pygments_lexer": "ipython3",
   "version": "3.7.4"
  }
 },
 "nbformat": 4,
 "nbformat_minor": 4
}
