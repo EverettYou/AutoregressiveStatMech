{
 "cells": [
  {
   "cell_type": "code",
   "execution_count": 5,
   "metadata": {},
   "outputs": [],
   "source": [
    "%run 'autoreg.py'"
   ]
  },
  {
   "cell_type": "markdown",
   "metadata": {},
   "source": [
    "# Autoregressive Model\n",
    "\n",
    "Autoregressive model is a generative model that models the joint probability distributition by product of conditional distributions\n",
    "$$p(x_1,x_2,x_3,\\cdots)=p(x_1)p(x_2|x_1)p(x_3|x_1,x_2)\\cdots = \\prod_{i}p(x_i|x_1,\\cdots,x_{i-1}).$$\n",
    "The parameters of the coditional distributions will be calculated by neural networks. However, due to the autoregressive causal dependence of the conditional probability on the input variables, the neural network should be masked to respect the same causal structure."
   ]
  },
  {
   "cell_type": "markdown",
   "metadata": {},
   "source": [
    "## Autoregressive Linear Layer\n",
    "\n",
    "A key component is to realize an autoregressive linear layer, which maps $x=(x_1,x_2,\\cdots)$ to $y=(y_1,y_2,\\cdots)$ via\n",
    "$$y = W\\cdot x + b,$$\n",
    "respecting the causality that $y_i$ only depends on $x_1,\\cdots,x_{i-1}$. This can be achieved by requiring the weight matrix $W$ to take a *lower-trianglar* form\n",
    "$$W = \\begin{bmatrix}\n",
    "0 & 0 & 0 & \\cdots & 0\\\\\n",
    "W_{21} & 0 & 0 & \\cdots & 0\\\\\n",
    "W_{31} & W_{32} & 0 & \\cdots & 0\\\\\n",
    "\\vdots & \\vdots & \\vdots & \\ddots & \\vdots\\\\\n",
    "W_{n1} & W_{n2} & W_{n3} & \\cdots & 0\\\\\n",
    "\\end{bmatrix}$$\n",
    "For PyTorch realization, we can first greate a raw weight matrix, which is a full matrix. Then construct the actual weight matrix by truncating the full matrix its low-triangle part. This can be implemented by `torch.tril` (which allows gradient backpropagate)."
   ]
  },
  {
   "cell_type": "markdown",
   "metadata": {},
   "source": [
    "### Toy Example\n",
    "Create a full weight matrix `w_full` and truncate it to the triangular weight matrix `w_tril`. The function `torch.tril` takes a argument `diagonal` to specify the truncation to which diagonal (inclusively)."
   ]
  },
  {
   "cell_type": "code",
   "execution_count": 6,
   "metadata": {},
   "outputs": [
    {
     "name": "stdout",
     "output_type": "stream",
     "text": [
      "tensor([[1., 1., 1.],\n",
      "        [1., 1., 1.],\n",
      "        [1., 1., 1.]], requires_grad=True)\n",
      "tensor([[0., 0., 0.],\n",
      "        [1., 0., 0.],\n",
      "        [1., 1., 0.]], grad_fn=<TrilBackward>)\n"
     ]
    }
   ],
   "source": [
    "w_full = torch.ones(3, 3, requires_grad = True)\n",
    "w_tril = torch.tril(w_full, diagonal = -1)\n",
    "print(w_full)\n",
    "print(w_tril)"
   ]
  },
  {
   "cell_type": "markdown",
   "metadata": {},
   "source": [
    "We can then use the triangular weight matrix in the remaining computation task to evaluate the loss function. For example, the loss funcion is simply the 2-norm of the triangular weight matrix (just to get some scalar score for the matrix)."
   ]
  },
  {
   "cell_type": "code",
   "execution_count": 3,
   "metadata": {},
   "outputs": [
    {
     "data": {
      "text/plain": [
       "tensor(3., grad_fn=<SumBackward0>)"
      ]
     },
     "execution_count": 3,
     "metadata": {},
     "output_type": "execute_result"
    }
   ],
   "source": [
    "loss = torch.sum(w_tril**2)\n",
    "loss"
   ]
  },
  {
   "cell_type": "markdown",
   "metadata": {},
   "source": [
    "Now we can gradient back propagate and check how the raw weight matrix will receive the gradient."
   ]
  },
  {
   "cell_type": "code",
   "execution_count": 4,
   "metadata": {},
   "outputs": [
    {
     "data": {
      "text/plain": [
       "tensor([[0., 0., 0.],\n",
       "        [2., 0., 0.],\n",
       "        [2., 2., 0.]])"
      ]
     },
     "execution_count": 4,
     "metadata": {},
     "output_type": "execute_result"
    }
   ],
   "source": [
    "loss.backward()\n",
    "w_full.grad"
   ]
  },
  {
   "cell_type": "markdown",
   "metadata": {},
   "source": [
    "We can see that the gadient is automatically masked as well. The upper triangle does not receive any gradient signal. If we put `w_full` into an optimizer to minimize the loss, the lower triangle of the weight matrix will be trained to zero (as favored by the loss function)."
   ]
  },
  {
   "cell_type": "code",
   "execution_count": 5,
   "metadata": {},
   "outputs": [
    {
     "data": {
      "text/plain": [
       "tensor([[ 1.0000e+00,  1.0000e+00,  1.0000e+00],\n",
       "        [-4.1566e-12,  1.0000e+00,  1.0000e+00],\n",
       "        [-4.1566e-12, -4.1566e-12,  1.0000e+00]], requires_grad=True)"
      ]
     },
     "execution_count": 5,
     "metadata": {},
     "output_type": "execute_result"
    }
   ],
   "source": [
    "optimizer = optim.Adam([w_full], lr = 0.1)\n",
    "for epoch in range(500):\n",
    "    w_tril = torch.tril(w_full, diagonal = -1)\n",
    "    loss = torch.sum(w_tril**2)\n",
    "    optimizer.zero_grad()\n",
    "    loss.backward()\n",
    "    optimizer.step()\n",
    "w_full"
   ]
  },
  {
   "cell_type": "markdown",
   "metadata": {},
   "source": [
    "### Pack to Torch Module\n",
    "\n",
    "We can pack the above functionality to a Torch Module, inherited from `nn.Linear`."
   ]
  },
  {
   "cell_type": "code",
   "execution_count": 111,
   "metadata": {},
   "outputs": [],
   "source": [
    "class AutoregressiveLinear(nn.Linear):\n",
    "    \"\"\" Applies a lienar transformation to the incoming data, \n",
    "        with the weight matrix masked to the lower-triangle. \n",
    "        \n",
    "        Args:\n",
    "        in_features: size of each input sample\n",
    "        out_features: size of each output sample\n",
    "        bias: If set to ``False``, the layer will not learn an additive bias.\n",
    "            Default: ``True``\n",
    "        diagonal: the diagonal to trucate to\"\"\"\n",
    "    \n",
    "    def __init__(self, in_features, out_features, bias=True, diagonal=0):\n",
    "        super(AutoregressiveLinear, self).__init__(in_features, out_features, bias)\n",
    "        self.diagonal = diagonal\n",
    "    \n",
    "    def extra_repr(self):\n",
    "        return super(AutoregressiveLinear, self).extra_repr() + ', diagonal={}'.format(self.diagonal)\n",
    "    \n",
    "    # overwrite forward pass\n",
    "    def forward(self, input):\n",
    "        return F.linear(input, torch.tril(self.weight, self.diagonal), self.bias)\n",
    "    \n",
    "    def forward_at(self, input, i):\n",
    "        output = input.matmul(torch.tril(self.weight, self.diagonal).narrow(0, i, 1).t())\n",
    "        if self.bias is not None:\n",
    "            output += self.bias.narrow(0, i, 1)\n",
    "        return output.squeeze()"
   ]
  },
  {
   "cell_type": "markdown",
   "metadata": {},
   "source": [
    "To test this module, let us create some data. The target $y$ is related to the input $x$ by $y_i=\\sum_{j=1}^{i}x_j$, which can be modeled by an autoregressive linear transformation, with weight being a lower-triangular matrix with all 1 below diagonal 0, and no bias."
   ]
  },
  {
   "cell_type": "code",
   "execution_count": 65,
   "metadata": {},
   "outputs": [
    {
     "data": {
      "text/plain": [
       "(tensor([[-0.3771,  0.4251,  1.7135, -0.9400,  2.1713],\n",
       "         [ 0.0523, -0.3501, -0.0915, -0.6792,  0.4335],\n",
       "         [ 0.3009, -0.4220,  1.6035, -2.0833,  0.3670],\n",
       "         [ 1.4235,  1.2236, -0.0823,  1.0501,  0.8598],\n",
       "         [-1.1559, -2.1539,  1.1880,  2.1029,  0.8998],\n",
       "         [-0.1219,  0.5108,  0.5590,  0.3527,  0.4323],\n",
       "         [ 0.7408, -1.5656, -0.5585, -0.6423, -0.6158],\n",
       "         [ 0.9485, -0.6065, -0.7095, -0.6030,  0.4756],\n",
       "         [-1.4155, -1.2858,  0.1816, -0.9591, -0.3085],\n",
       "         [-0.9239,  0.2905,  0.2199, -0.2990, -0.2122]]),\n",
       " tensor([[-0.3771,  0.0480,  1.7615,  0.8215,  2.9929],\n",
       "         [ 0.0523, -0.2979, -0.3893, -1.0686, -0.6351],\n",
       "         [ 0.3009, -0.1211,  1.4824, -0.6009, -0.2338],\n",
       "         [ 1.4235,  2.6471,  2.5648,  3.6149,  4.4747],\n",
       "         [-1.1559, -3.3098, -2.1218, -0.0189,  0.8809],\n",
       "         [-0.1219,  0.3889,  0.9480,  1.3006,  1.7329],\n",
       "         [ 0.7408, -0.8248, -1.3833, -2.0256, -2.6414],\n",
       "         [ 0.9485,  0.3420, -0.3675, -0.9705, -0.4949],\n",
       "         [-1.4155, -2.7012, -2.5196, -3.4787, -3.7872],\n",
       "         [-0.9239, -0.6334, -0.4135, -0.7125, -0.9247]]))"
      ]
     },
     "execution_count": 65,
     "metadata": {},
     "output_type": "execute_result"
    }
   ],
   "source": [
    "input = torch.randn(10, 5)\n",
    "target = torch.cumsum(input, axis = 1)\n",
    "input, target"
   ]
  },
  {
   "cell_type": "markdown",
   "metadata": {},
   "source": [
    "Supervised learning with mean-square-error (MSE) loss."
   ]
  },
  {
   "cell_type": "code",
   "execution_count": 75,
   "metadata": {},
   "outputs": [
    {
     "name": "stdout",
     "output_type": "stream",
     "text": [
      "loss : 0.0946\n",
      "loss : 0.0000\n",
      "loss : 0.0000\n",
      "loss : 0.0000\n",
      "loss : 0.0000\n"
     ]
    }
   ],
   "source": [
    "model = AutoregressiveLinear(5, 5)\n",
    "loss_op = nn.MSELoss()\n",
    "optimizer = optim.SGD(model.parameters(), lr=0.5)\n",
    "train_loss = 0.\n",
    "for epoch in range(500):\n",
    "    loss = loss_op(model(input), target)\n",
    "    optimizer.zero_grad()\n",
    "    loss.backward()\n",
    "    optimizer.step()\n",
    "    train_loss += loss.item()\n",
    "    if (epoch+1)%100 == 0:\n",
    "        print('loss : {:.4f}'.format(train_loss / 100))\n",
    "        train_loss = 0."
   ]
  },
  {
   "cell_type": "markdown",
   "metadata": {},
   "source": [
    "As training converges, we inspect the model parameters."
   ]
  },
  {
   "cell_type": "code",
   "execution_count": 76,
   "metadata": {},
   "outputs": [
    {
     "data": {
      "text/plain": [
       "[Parameter containing:\n",
       " tensor([[ 1.0000,  0.1812,  0.3855,  0.1861,  0.4047],\n",
       "         [ 1.0000,  1.0000, -0.3856,  0.3726,  0.0705],\n",
       "         [ 1.0000,  1.0000,  1.0000, -0.2604, -0.3831],\n",
       "         [ 1.0000,  1.0000,  1.0000,  1.0000,  0.1311],\n",
       "         [ 1.0000,  1.0000,  1.0000,  1.0000,  1.0000]], requires_grad=True),\n",
       " Parameter containing:\n",
       " tensor([-2.9571e-08, -1.0958e-07,  3.5672e-07,  3.5130e-07, -6.4661e-07],\n",
       "        requires_grad=True)]"
      ]
     },
     "execution_count": 76,
     "metadata": {},
     "output_type": "execute_result"
    }
   ],
   "source": [
    "list(model.parameters())"
   ]
  },
  {
   "cell_type": "markdown",
   "metadata": {},
   "source": [
    "The weight matrix indeed becomes a lower-triangular matrix of 1's and the bias indeed vanishes."
   ]
  },
  {
   "cell_type": "markdown",
   "metadata": {},
   "source": [
    "## Generative Model\n",
    "\n",
    "We can use autoregressive linear layers to build the autoregressive model. As a generative model, the autoregressive model must provide two functionalities:\n",
    "- `log_prob(input)` evaluating the log probability of a batch of samples as `input`,\n",
    "- `sample(batch_size)` generating a batch of samples given the `batch_size`, according to the model probability distribtuion.\n",
    "\n",
    "We realize these functionalities in the neural network module `AutoregressiveModel`."
   ]
  },
  {
   "cell_type": "code",
   "execution_count": 158,
   "metadata": {},
   "outputs": [],
   "source": [
    "class AutoregressiveModel(nn.Module):\n",
    "    \"\"\" Represent a generative model that can generate samples and provide log probability evaluations.\n",
    "        \n",
    "        Args:\n",
    "        features: size of each sample\n",
    "        depth: depth of the neural network (in number of linear layers) (default=1)\n",
    "        nonlinearity: activation function to use (default='ReLU') \"\"\"\n",
    "    \n",
    "    def __init__(self, features, depth=1, nonlinearity='ReLU'):\n",
    "        super(AutoregressiveModel, self).__init__()\n",
    "        self.features = features # number of features\n",
    "        self.layers = nn.ModuleList()\n",
    "        for i in range(depth):\n",
    "            if i == 0: # first autoregressive linear layer must have diagonal=-1\n",
    "                self.layers.append(AutoregressiveLinear(self.features, self.features, diagonal = -1))\n",
    "            else: # remaining autoregressive linear layers have diagonal=0 (by default)\n",
    "                self.layers.append(AutoregressiveLinear(self.features, self.features))\n",
    "            if i == depth-1: # the last layer must be Sigmoid\n",
    "                self.layers.append(nn.Sigmoid())\n",
    "            else: # other layers use the specified nonlinearity\n",
    "                self.layers.append(getattr(nn, nonlinearity)())\n",
    "    \n",
    "    def extra_repr(self):\n",
    "        return '(features): {}'.format(self.features) + super(AutoregressiveModel, self).extra_repr()\n",
    "    \n",
    "    def forward(self, input):\n",
    "        prob = input # prob as a workspace, initialized to input\n",
    "        for layer in self.layers: # apply layers\n",
    "            prob = layer(prob)\n",
    "        return prob # prob holds predicted Beroulli probability parameters\n",
    "    \n",
    "    def log_prob(self, input):\n",
    "        prob = self(input) # forward pass to get Beroulli probability parameters\n",
    "        return torch.sum(dist.Bernoulli(prob).log_prob(input), axis=-1)\n",
    "    \n",
    "    def sample(self, batch_size=1):\n",
    "        with torch.no_grad(): # no gradient for sample generation\n",
    "            # create a record to host layerwise outputs\n",
    "            record = torch.zeros(len(self.layers)+1, batch_size, self.features)\n",
    "            # autoregressive batch sampling\n",
    "            for i in range(self.features):\n",
    "                for l, layer in enumerate(self.layers):\n",
    "                    if isinstance(layer, AutoregressiveLinear): # linear layer\n",
    "                        record[l+1, :, i] = layer.forward_at(record[l], i)\n",
    "                    else: # elementwise layer\n",
    "                        record[l+1, :, i] = layer(record[l, :, i])\n",
    "                record[0, :, i] = dist.Bernoulli(record[-1, :, i]).sample()\n",
    "        return record[0]"
   ]
  },
  {
   "cell_type": "markdown",
   "metadata": {},
   "source": [
    "### Architecture\n",
    "\n",
    "The conditional probabilities are modeled as Bernoulli distributions, whose probabilities are given by the autoregressive feed forward neural network. To respect the causal structure, the first autoregressive layer must have `diagonal=-1` such that $y_i$ depends on $(x_1,\\cdots,x_{i-1})$. To esure that the output are probabilities (real numbers between 0 and 1), the last layer nonlineary activation must be Sigmoid. The internal nonlinear activation can be specified freely (default: ReLU). The architecture of a depth-3 autoregressive model will be like:"
   ]
  },
  {
   "cell_type": "code",
   "execution_count": 157,
   "metadata": {},
   "outputs": [
    {
     "data": {
      "text/plain": [
       "AutoregressiveModel(\n",
       "  (features): 5\n",
       "  (layers): ModuleList(\n",
       "    (0): AutoregressiveLinear(in_features=5, out_features=5, bias=True, diagonal=-1)\n",
       "    (1): ReLU()\n",
       "    (2): AutoregressiveLinear(in_features=5, out_features=5, bias=True, diagonal=0)\n",
       "    (3): ReLU()\n",
       "    (4): AutoregressiveLinear(in_features=5, out_features=5, bias=True, diagonal=0)\n",
       "    (5): Sigmoid()\n",
       "  )\n",
       ")"
      ]
     },
     "execution_count": 157,
     "metadata": {},
     "output_type": "execute_result"
    }
   ],
   "source": [
    "AutoregressiveModel(5, depth=3)"
   ]
  },
  {
   "cell_type": "markdown",
   "metadata": {},
   "source": [
    "### Bernoulli Distribution\n",
    "\n",
    "The forward pass will calculate the Bernoulli probability parameter: \n",
    "$$p_i = f(x_1,\\cdots,x_{i-1}).$$ \n",
    "The Bernoulli samples are binary (0 or 1), where $x_i=1$ with probability $p_i$ and $x_i=0$ with probability $1-p_i$. The log conditional probability is given by\n",
    "$$\\log p(x_i|x_1,\\cdots,x_{i-1})= x_i\\log p_i + (1-x_i)\\log(1-p_i).$$\n",
    "The log probability of the autoregressive model is given by the summation\n",
    "$$\\log p(x_1,x_2,\\cdots) = \\sum_{i=1}^n\\log p(x_i|x_1,\\cdots,x_{i-1}).$$"
   ]
  },
  {
   "cell_type": "code",
   "execution_count": 137,
   "metadata": {},
   "outputs": [
    {
     "data": {
      "text/plain": [
       "tensor(-3.1382, grad_fn=<SumBackward1>)"
      ]
     },
     "execution_count": 137,
     "metadata": {},
     "output_type": "execute_result"
    }
   ],
   "source": [
    "AutoregressiveModel(5, depth=3).log_prob(torch.tensor([0.,1.,0.,0.,0.]))"
   ]
  },
  {
   "cell_type": "code",
   "execution_count": 150,
   "metadata": {},
   "outputs": [
    {
     "data": {
      "text/plain": [
       "tensor([[1., 0., 1., 0., 1.]])"
      ]
     },
     "execution_count": 150,
     "metadata": {},
     "output_type": "execute_result"
    }
   ],
   "source": [
    "AutoregressiveModel(5, depth=3).sample()"
   ]
  },
  {
   "cell_type": "markdown",
   "metadata": {},
   "source": [
    "### Toy Model: Ferromagets\n",
    "\n",
    "Frist generate some fake training data"
   ]
  },
  {
   "cell_type": "code",
   "execution_count": 170,
   "metadata": {},
   "outputs": [],
   "source": [
    "data = torch.tensor([\n",
    "    [1., 1., 1., 1., 1.]\n",
    "])"
   ]
  },
  {
   "cell_type": "markdown",
   "metadata": {},
   "source": [
    "Create a model. Initially, the generative model just randomly sample."
   ]
  },
  {
   "cell_type": "code",
   "execution_count": 181,
   "metadata": {},
   "outputs": [
    {
     "data": {
      "text/plain": [
       "tensor([[0., 1., 0., 0., 1.],\n",
       "        [1., 1., 0., 0., 1.],\n",
       "        [0., 0., 0., 1., 1.],\n",
       "        [1., 1., 0., 0., 1.],\n",
       "        [1., 0., 0., 0., 1.]])"
      ]
     },
     "execution_count": 181,
     "metadata": {},
     "output_type": "execute_result"
    }
   ],
   "source": [
    "model = AutoregressiveModel(5, depth=1)\n",
    "model.sample(5)"
   ]
  },
  {
   "cell_type": "markdown",
   "metadata": {},
   "source": [
    "Train with the dataset use the negative log likelihood loss."
   ]
  },
  {
   "cell_type": "code",
   "execution_count": 178,
   "metadata": {},
   "outputs": [
    {
     "name": "stdout",
     "output_type": "stream",
     "text": [
      "loss : 0.2173\n",
      "loss : 0.0320\n",
      "loss : 0.0187\n",
      "loss : 0.0132\n",
      "loss : 0.0102\n"
     ]
    }
   ],
   "source": [
    "optimizer = optim.SGD(model.parameters(), lr=0.5)\n",
    "train_loss = 0.\n",
    "for epoch in range(500):\n",
    "    loss = -torch.sum(model.log_prob(data))\n",
    "    optimizer.zero_grad()\n",
    "    loss.backward()\n",
    "    optimizer.step()\n",
    "    train_loss += loss.item()\n",
    "    if (epoch+1)%100 == 0:\n",
    "        print('loss : {:.4f}'.format(train_loss / 100))\n",
    "        train_loss = 0."
   ]
  },
  {
   "cell_type": "markdown",
   "metadata": {},
   "source": [
    "The model learns to generate all 1's."
   ]
  },
  {
   "cell_type": "code",
   "execution_count": 179,
   "metadata": {},
   "outputs": [
    {
     "data": {
      "text/plain": [
       "tensor([[1., 1., 1., 1., 1.],\n",
       "        [1., 1., 1., 1., 1.],\n",
       "        [1., 1., 1., 1., 1.],\n",
       "        [1., 1., 1., 1., 1.],\n",
       "        [1., 1., 1., 1., 1.]])"
      ]
     },
     "execution_count": 179,
     "metadata": {},
     "output_type": "execute_result"
    }
   ],
   "source": [
    "model.sample(5)"
   ]
  },
  {
   "cell_type": "markdown",
   "metadata": {},
   "source": [
    "The trick is to make the bias very positive. Such that, regardless of what the configuration is, the last layer will always output a probability close to 1, hence the sampler will be strongly biased towards 1."
   ]
  },
  {
   "cell_type": "code",
   "execution_count": 180,
   "metadata": {},
   "outputs": [
    {
     "data": {
      "text/plain": [
       "[Parameter containing:\n",
       " tensor([[-0.1674,  0.1667, -0.1848,  0.2543,  0.3754],\n",
       "         [ 3.2621, -0.4016,  0.3777,  0.2902,  0.0377],\n",
       "         [ 1.9905,  2.0060, -0.2172,  0.1879,  0.1711],\n",
       "         [ 1.7748,  1.7847,  1.8465,  0.3166,  0.1449],\n",
       "         [ 1.7167,  1.7087,  1.5617,  0.9460, -0.2799]], requires_grad=True),\n",
       " Parameter containing:\n",
       " tensor([5.5119, 2.9473, 2.6209, 1.5039, 1.2005], requires_grad=True)]"
      ]
     },
     "execution_count": 180,
     "metadata": {},
     "output_type": "execute_result"
    }
   ],
   "source": [
    "list(model.parameters())"
   ]
  },
  {
   "cell_type": "markdown",
   "metadata": {},
   "source": [
    "Let us try a bit more challenging dataset, which are either all-1 or all-0, meaning that the spins are correlated together. The neural network must learn about the correlation to model the dataset correctly. The previous bias trick would not work. "
   ]
  },
  {
   "cell_type": "code",
   "execution_count": 216,
   "metadata": {},
   "outputs": [],
   "source": [
    "data = torch.tensor([\n",
    "    [1., 1., 1., 1., 1.],\n",
    "    [0., 0., 0., 0., 0.]\n",
    "])\n",
    "model = AutoregressiveModel(5, depth=1)"
   ]
  },
  {
   "cell_type": "markdown",
   "metadata": {},
   "source": [
    "Train it with Adam optimizer because there will be saddle points in the loss landscape (SGD will go very slowly)."
   ]
  },
  {
   "cell_type": "code",
   "execution_count": 219,
   "metadata": {},
   "outputs": [
    {
     "name": "stdout",
     "output_type": "stream",
     "text": [
      "loss : 1.4656\n",
      "loss : 1.3868\n",
      "loss : 1.3867\n",
      "loss : 1.3866\n",
      "loss : 1.3865\n"
     ]
    }
   ],
   "source": [
    "optimizer = optim.Adam(model.parameters(), lr=1.)\n",
    "train_loss = 0.\n",
    "for epoch in range(500):\n",
    "    loss = -torch.sum(model.log_prob(data))\n",
    "    optimizer.zero_grad()\n",
    "    loss.backward()\n",
    "    optimizer.step()\n",
    "    train_loss += loss.item()\n",
    "    if (epoch+1)%100 == 0:\n",
    "        print('loss : {:.4f}'.format(train_loss / 100))\n",
    "        train_loss = 0."
   ]
  },
  {
   "cell_type": "markdown",
   "metadata": {},
   "source": [
    "The neural network successfully learns how to generate correlated samples as well."
   ]
  },
  {
   "cell_type": "code",
   "execution_count": 220,
   "metadata": {},
   "outputs": [
    {
     "data": {
      "text/plain": [
       "tensor([[1., 1., 1., 1., 1.],\n",
       "        [0., 0., 0., 0., 0.],\n",
       "        [0., 0., 0., 0., 0.],\n",
       "        [1., 1., 1., 1., 1.],\n",
       "        [1., 1., 1., 1., 1.]])"
      ]
     },
     "execution_count": 220,
     "metadata": {},
     "output_type": "execute_result"
    }
   ],
   "source": [
    "model.sample(5)"
   ]
  },
  {
   "cell_type": "markdown",
   "metadata": {},
   "source": [
    "The trick is to make the weight matrix very positive in the lower-triangle to mediate the strong correlation among spins. The first bias vanishes to ensure unbiased sampling between all-1 and all-0."
   ]
  },
  {
   "cell_type": "code",
   "execution_count": 221,
   "metadata": {},
   "outputs": [
    {
     "data": {
      "text/plain": [
       "[Parameter containing:\n",
       " tensor([[ 0.2059, -0.3233,  0.3602, -0.1707,  0.2888],\n",
       "         [19.4249, -0.1996, -0.2417, -0.2613, -0.2163],\n",
       "         [11.7324, 12.1529, -0.1455, -0.0204, -0.2792],\n",
       "         [ 8.7298,  8.5494,  8.6436,  0.3844,  0.3855],\n",
       "         [ 7.6335,  8.1966,  7.9682,  7.6489, -0.4398]], requires_grad=True),\n",
       " Parameter containing:\n",
       " tensor([ 1.5975e-07, -9.3592e+00, -1.0513e+01, -1.0404e+01, -1.0459e+01],\n",
       "        requires_grad=True)]"
      ]
     },
     "execution_count": 221,
     "metadata": {},
     "output_type": "execute_result"
    }
   ],
   "source": [
    "list(model.parameters())"
   ]
  }
 ],
 "metadata": {
  "kernelspec": {
   "display_name": "Python 3",
   "language": "python",
   "name": "python3"
  },
  "language_info": {
   "codemirror_mode": {
    "name": "ipython",
    "version": 3
   },
   "file_extension": ".py",
   "mimetype": "text/x-python",
   "name": "python",
   "nbconvert_exporter": "python",
   "pygments_lexer": "ipython3",
   "version": "3.7.4"
  }
 },
 "nbformat": 4,
 "nbformat_minor": 4
}
